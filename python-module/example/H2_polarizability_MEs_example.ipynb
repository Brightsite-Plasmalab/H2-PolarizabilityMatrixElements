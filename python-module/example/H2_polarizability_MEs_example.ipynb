{
 "cells": [
  {
   "cell_type": "markdown",
   "metadata": {},
   "source": [
    "# Python module `rovibME` for computing ro-vibrational matrix elements of polarizability invariants for H2, HD and D2"
   ]
  },
  {
   "cell_type": "code",
   "execution_count": 1,
   "metadata": {},
   "outputs": [
    {
     "name": "stdout",
     "output_type": "stream",
     "text": [
      "Polarizability data dimension checked.\n",
      "\n",
      "\n",
      "Give  rovibME.compute  command with parameters:\n",
      "\trovibME.compute(molecule, bra_v, bra_J, ket_v, ket_J, lambda, unit of lambda, operator)\n",
      "\t for example:  rovibME.compute(\"H2\",0,2,0,4,488,\"n\",\"mp\")  \n",
      "\t\t       rovibME.compute(\"D2\",1,0,1,0,\"static\",\"n\",\"all\")  \n",
      "\t\t\n",
      "\t\tmolecule = for H2 enter \"H2\", for D2 enter \"D2\", for HD enter \"HD\" \n",
      "\t\tbra_v    = vibrational state, v=[0,4]\n",
      "\t\tbra_J    = rotataional state, J=[0,15]\n",
      "\t\tket_v    = vibrational state, v=[0,4]\n",
      "\t\tket_J    = rotataional state, J=[0,15]\n",
      "\t\tlambda   = wavelength in Hartree, nm or Angstrom, for static specify \"s\" or \"static\" here\n",
      "\t\tunit of lambda =  for  Hartree           use \"H\" or \"h\"  \n",
      "\t\t\t          for  nanometers        use \"n\" or \"nm\" \n",
      "\t\t\t          for  Angstrom          use \"a\" or \"A\"  \n",
      "\t\t\t          if static property is asked then this parameter can be any of the three \n",
      "\t\tAvailable wavelength range: 0.25 - 0.0345 Hartree;\n",
      "   \t\t\t\t\t    182.2534 - 1320.6769 nm; \n",
      "   \t\t\t\t\t    1822.5341 - 13206.7688 Angstrom\n",
      "\t\toperator\t= alpha(perpendicular) = alpha_xx given by \"xx\" or \"x\" \n",
      "\t\t\t          alpha(parallel) = alpha_xx given by \"zz\" or \"z\" \n",
      "\t\t\t          isotropy or mean polarizability given by \"iso\" or \"mp\" or \"mean\" \n",
      "\t\t\t          anisotropy or polarizability difference or gamma given by \"aniso\" or \"g\"  or \"diff\" \n",
      "\t\t\t          for all the above use \"all\"   or  \"All\"or \"ALL\" \n",
      "...ready.\n"
     ]
    }
   ],
   "source": [
    "import rovibME\n",
    "import numpy as np\n",
    "\n",
    "\n",
    "# conervsion factor for au to cm3\n",
    "conv_au_cm3=1.481847096e-25\n",
    "\n",
    "# conversion to Cm2V-1\n",
    "conv_au_SI = 1.648777254e-41"
   ]
  },
  {
   "cell_type": "markdown",
   "metadata": {},
   "source": [
    "## Example"
   ]
  },
  {
   "cell_type": "code",
   "execution_count": 2,
   "metadata": {},
   "outputs": [
    {
     "data": {
      "text/plain": [
       "2.17426318911081"
      ]
     },
     "execution_count": 2,
     "metadata": {},
     "output_type": "execute_result"
    }
   ],
   "source": [
    "rovibME.compute(\"H2\",0,2,0,4,532.2,\"n\",\"g\") "
   ]
  },
  {
   "cell_type": "code",
   "execution_count": 3,
   "metadata": {},
   "outputs": [
    {
     "data": {
      "text/plain": [
       "2.206392187405928"
      ]
     },
     "execution_count": 3,
     "metadata": {},
     "output_type": "execute_result"
    }
   ],
   "source": [
    "rovibME.compute(\"H2\",0,3,0,5,532.2,\"n\",\"g\") "
   ]
  },
  {
   "cell_type": "code",
   "execution_count": 4,
   "metadata": {},
   "outputs": [],
   "source": [
    "#assign to variable \n",
    "\n",
    "gamma_H2_0103_355nm = rovibME.compute(\"H2\", 0, 1, 0, 3, 355 ,\"n\", \"g\") "
   ]
  },
  {
   "cell_type": "code",
   "execution_count": 5,
   "metadata": {},
   "outputs": [
    {
     "name": "stdout",
     "output_type": "stream",
     "text": [
      "3.754510091276144e-41\n"
     ]
    }
   ],
   "source": [
    "# convert to SI unit \n",
    "print( gamma_H2_0103_355nm * conv_au_SI )"
   ]
  },
  {
   "cell_type": "code",
   "execution_count": 6,
   "metadata": {},
   "outputs": [
    {
     "data": {
      "text/plain": [
       "5.6391156826803135"
      ]
     },
     "execution_count": 6,
     "metadata": {},
     "output_type": "execute_result"
    }
   ],
   "source": [
    "rovibME.compute(\"H2\",0,2,0,4, 514.5 ,\"n\",\"mp\") "
   ]
  },
  {
   "cell_type": "code",
   "execution_count": 7,
   "metadata": {},
   "outputs": [
    {
     "data": {
      "text/plain": [
       "0.5344129766263627"
      ]
     },
     "execution_count": 7,
     "metadata": {},
     "output_type": "execute_result"
    }
   ],
   "source": [
    "rovibME.compute(\"H2\",0,2,1,4, 514.5 ,\"n\",\"mp\") "
   ]
  },
  {
   "cell_type": "markdown",
   "metadata": {},
   "source": [
    "---"
   ]
  },
  {
   "cell_type": "markdown",
   "metadata": {},
   "source": [
    "## Depolarization ratio of selected Raman transitions in H2\n",
    "\n",
    "The following functions how the `rovibME` module can be conbined with computation of other terms (like Boltzmann population, Placzek-Teller coef) to compute the Raman intensities which can be compared to experimental results."
   ]
  },
  {
   "cell_type": "code",
   "execution_count": 8,
   "metadata": {},
   "outputs": [],
   "source": [
    "#---------------------------------------\n",
    "#      intensities of the Q-branch\n",
    "\n",
    "# parallel polarization\n",
    "\n",
    "def intQ_parallel( gamma, alpha):\n",
    "    #J_max index\n",
    "    # gamma and alpha are array of matrix elements\n",
    "    \n",
    "    J_max = gamma.shape[0]\n",
    "    out=np.zeros(gamma.shape[0])\n",
    "    #print(out.shape[0])\n",
    "    \n",
    "    for i in range(0,J_max):\n",
    "        b_term=(4/45)*((i*(i+1))/((2*i-1)*(2*i+3)))\n",
    "        intensity = (alpha[i]**2)+(b_term)*(gamma[i]**2)\n",
    "        print(i,intensity)\n",
    "        out[i]=intensity\n",
    "            \n",
    "    #print (out)        \n",
    "    return out    \n",
    "\n",
    "#----------------------------------------------------------\n",
    "# perpendicular polarization\n",
    "\n",
    "def intQ_perp( gamma, alpha):\n",
    "    #J_max index\n",
    "    # gamma and alpha are array of matrix elements\n",
    "    \n",
    "    J_max = gamma.shape[0]\n",
    "    out=np.zeros(gamma.shape[0])\n",
    "    #print(out.shape[0])\n",
    "    \n",
    "    for i in range(0,J_max):\n",
    "        b_term=(1/15)*((i*(i+1))/((2*i-1)*(2*i+3)))\n",
    "        intensity =  (b_term)*(gamma[i]**2)\n",
    "        print(i,intensity)\n",
    "        out[i]=intensity\n",
    "    #print(out)    \n",
    "    return out   \n",
    "#----------------------------------------------------------"
   ]
  },
  {
   "cell_type": "code",
   "execution_count": 10,
   "metadata": {},
   "outputs": [],
   "source": [
    "#---------------------------------------\n",
    "#      intensities of the O-branch\n",
    "\n",
    "# parallel polarization\n",
    "\n",
    "def intO_parallel( gamma, alpha):\n",
    "    #J_max index\n",
    "    # gamma and alpha are array of matrix elements\n",
    "    \n",
    "    J_max = gamma.shape[0]\n",
    "    out=np.zeros(gamma.shape[0])\n",
    "    #print(out.shape[0])\n",
    "    \n",
    "    for i in range(0,J_max):\n",
    "        b_term=(2/15)*((i*(i-1))/((2*i-1)*(2*i+1)))\n",
    "        intensity = (b_term)*(gamma[i]**2)\n",
    "        print(i,intensity)\n",
    "        out[i]=intensity\n",
    "            \n",
    "    #print (out)        \n",
    "    return out    \n",
    "\n",
    "#----------------------------------------------------------\n",
    "# perpendicular polarization\n",
    "\n",
    "def intO_perp( gamma, alpha):\n",
    "    #J_max index\n",
    "    # gamma and alpha are array of matrix elements\n",
    "    \n",
    "    J_max = gamma.shape[0]\n",
    "    out=np.zeros(gamma.shape[0])\n",
    "    #print(out.shape[0])\n",
    "    \n",
    "    for i in range(0,J_max):\n",
    "        b_term=(1/10)*((i*(i-1))/((2*i-1)*(2*i+1)))\n",
    "        intensity =  (b_term)*(gamma[i]**2)\n",
    "        print(i,intensity)\n",
    "        out[i]=intensity\n",
    "    #print(out)    \n",
    "    return out   \n",
    "#----------------------------------------------------------"
   ]
  },
  {
   "cell_type": "code",
   "execution_count": 11,
   "metadata": {},
   "outputs": [],
   "source": [
    "#---------------------------------------\n",
    "#      intensities of the S-branch\n",
    "\n",
    "# parallel polarization\n",
    "\n",
    "def intS_parallel( gamma, alpha):\n",
    "    #J_max index\n",
    "    # gamma and alpha are array of matrix elements\n",
    "    \n",
    "    J_max = gamma.shape[0]\n",
    "    out=np.zeros(gamma.shape[0])\n",
    "    #print(out.shape[0])\n",
    "    \n",
    "    for i in range(0,J_max):\n",
    "        b_term=(2/15)*(((i+1)*(i+2))/((2*i+1)*(2*i+3)))\n",
    "        intensity = (b_term)*(gamma[i]**2)\n",
    "        out[i]=intensity\n",
    "                 \n",
    "    return out    \n",
    "\n",
    "#----------------------------------------------------------\n",
    "# perpendicular polarization\n",
    "\n",
    "def intS_perp( gamma, alpha):\n",
    "    #J_max index\n",
    "    # gamma and alpha are array of matrix elements\n",
    "    \n",
    "    J_max = gamma.shape[0]\n",
    "    out=np.zeros(gamma.shape[0])\n",
    "    #print(out.shape[0])\n",
    "    \n",
    "    for i in range(0,J_max):\n",
    "        b_term=(1/10)*(((i+1)*(i+2))/((2*i+1)*(2*i+3)))\n",
    "        intensity =  (b_term)*(gamma[i]**2)\n",
    "        out[i]=intensity   \n",
    "    return out   \n",
    "#----------------------------------------------------------"
   ]
  },
  {
   "cell_type": "code",
   "execution_count": 12,
   "metadata": {},
   "outputs": [],
   "source": [
    "\n",
    "#----------------------------------------------------------\n",
    "#---------------------- ANISOTROPY ------------------------\n",
    "\n",
    "def gen_gammaH2(j_max):\n",
    "    H2_anisotropy_01 = np.zeros(j_max)\n",
    "    for i in range(0, j_max):\n",
    "        H2_anisotropy_01[i] = rovibME.compute(\"H2\",0,i,1,i, 532 ,\"n\",\"g\") \n",
    "    \n",
    "    return H2_anisotropy_01\n",
    "\n",
    "#----------------------------------------------------------\n",
    "\n",
    "def gen_gammaHD(j_max):\n",
    "    HD_anisotropy_01 = np.zeros(j_max)\n",
    "    for i in range(0, j_max):\n",
    "        HD_anisotropy_01[i] = rovibME.compute(\"HD\",0,i,1,i, 532 ,\"n\",\"g\") \n",
    "    \n",
    "    return HD_anisotropy_01\n",
    "\n",
    "#----------------------------------------------------------\n",
    "\n",
    "def gen_gammaD2(j_max):\n",
    "    D2_anisotropy_01 = np.zeros(j_max)\n",
    "    for i in range(0, j_max):\n",
    "        D2_anisotropy_01[i] = rovibME.compute(\"D2\",0,i,1,i, 532 ,\"n\",\"g\") \n",
    "    \n",
    "    return D2_anisotropy_01\n",
    "\n",
    "#----------------------------------------------------------\n",
    "#-----------------MEAN POLARIZABILITY ---------------------\n",
    "\n",
    "def gen_alphaH2(j_max):\n",
    "    H2_anisotropy_01 = np.zeros(j_max)\n",
    "    for i in range(0, j_max):\n",
    "        H2_anisotropy_01[i] = rovibME.compute(\"H2\",0,i,1,i, 532 ,\"n\",\"mp\") \n",
    "    \n",
    "    return H2_anisotropy_01\n",
    "\n",
    "#----------------------------------------------------------\n",
    "\n",
    "def gen_alphaHD(j_max):\n",
    "    HD_anisotropy_01 = np.zeros(j_max)\n",
    "    for i in range(0, j_max):\n",
    "        HD_anisotropy_01[i] = rovibME.compute(\"HD\",0,i,1,i, 532 ,\"n\",\"mp\") \n",
    "    \n",
    "    return HD_anisotropy_01\n",
    "\n",
    "#----------------------------------------------------------\n",
    "\n",
    "def gen_alphaD2(j_max):\n",
    "    D2_anisotropy_01 = np.zeros(j_max)\n",
    "    for i in range(0, j_max):\n",
    "        D2_anisotropy_01[i] = rovibME.compute(\"D2\",0,i,1,i, 532 ,\"n\",\"mp\") \n",
    "    \n",
    "    return D2_anisotropy_01\n",
    "\n",
    "#----------------------------------------------------------\n"
   ]
  },
  {
   "cell_type": "code",
   "execution_count": 13,
   "metadata": {},
   "outputs": [
    {
     "name": "stdout",
     "output_type": "stream",
     "text": [
      "[0.65359378 0.65555865 0.65948538 0.66536796] [0.77988614 0.78105824 0.78339094 0.78688804]\n"
     ]
    }
   ],
   "source": [
    "gammaH2_01 = gen_gammaH2(4)\n",
    "alphaH2_01 = gen_alphaH2(4)\n",
    "print(gammaH2_01, alphaH2_01)"
   ]
  },
  {
   "cell_type": "markdown",
   "metadata": {},
   "source": [
    "### Depolarization ratio of the Q-branch"
   ]
  },
  {
   "cell_type": "code",
   "execution_count": 14,
   "metadata": {},
   "outputs": [
    {
     "name": "stdout",
     "output_type": "stream",
     "text": [
      "0 0.6082223914887217\n",
      "1 0.6253322306811976\n",
      "2 0.6247469741110299\n",
      "3 0.6296867670887744\n",
      "0 -0.0\n",
      "1 0.01146019059317971\n",
      "2 0.00828420878181256\n",
      "3 0.007870480486236413\n",
      "\n",
      "Depolarization ratio H2 (Q):  [-0.          0.01832656  0.0132601   0.01249904]\n"
     ]
    }
   ],
   "source": [
    "QI_para = intQ_parallel( gammaH2_01, alphaH2_01)\n",
    "QI_perp = intQ_perp( gammaH2_01, alphaH2_01)\n",
    "depRatio_Qbranch_H2 = QI_perp/QI_para \n",
    "print (\"\\nDepolarization ratio H2 (Q): \", depRatio_Qbranch_H2 )"
   ]
  },
  {
   "cell_type": "markdown",
   "metadata": {},
   "source": [
    "---\n",
    "\n",
    "### Depolarization of the S-branch"
   ]
  },
  {
   "cell_type": "code",
   "execution_count": 15,
   "metadata": {},
   "outputs": [
    {
     "name": "stdout",
     "output_type": "stream",
     "text": [
      "\n",
      "Depolarization ratio H2 (S):  [0.75 0.75 0.75 0.75]\n"
     ]
    }
   ],
   "source": [
    "SI_para = intS_parallel( gammaH2_01, alphaH2_01)\n",
    "SI_perp = intS_perp( gammaH2_01, alphaH2_01)\n",
    "depRatio_Sbranch_H2 = SI_perp/SI_para \n",
    "print (\"\\nDepolarization ratio H2 (S): \", depRatio_Sbranch_H2 )"
   ]
  },
  {
   "cell_type": "code",
   "execution_count": null,
   "metadata": {},
   "outputs": [],
   "source": []
  }
 ],
 "metadata": {
  "kernelspec": {
   "display_name": "Python 3",
   "language": "python",
   "name": "python3"
  },
  "language_info": {
   "codemirror_mode": {
    "name": "ipython",
    "version": 3
   },
   "file_extension": ".py",
   "mimetype": "text/x-python",
   "name": "python",
   "nbconvert_exporter": "python",
   "pygments_lexer": "ipython3",
   "version": "3.5.6"
  }
 },
 "nbformat": 4,
 "nbformat_minor": 4
}
